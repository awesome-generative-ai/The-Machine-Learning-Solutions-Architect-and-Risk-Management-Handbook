{
 "cells": [
  {
   "cell_type": "markdown",
   "id": "4d8024eb",
   "metadata": {},
   "source": [
    "# bert-financial-sentiment-launcher"
   ]
  },
  {
   "cell_type": "markdown",
   "id": "326964dd",
   "metadata": {},
   "source": [
    "----"
   ]
  },
  {
   "cell_type": "code",
   "execution_count": null,
   "id": "alien-stopping",
   "metadata": {},
   "outputs": [],
   "source": [
    "# 导入必要的库，包括 os 用于操作文件系统，numpy 用于处理数组，pandas 用于处理数据表格，以及 sagemaker 用于使用 Amazon SageMaker 服务。\n",
    "import os \n",
    "\n",
    "import numpy as np \n",
    "\n",
    "import pandas as pd \n",
    "\n",
    "import sagemaker \n",
    "\n",
    "# 创建一个 Amazon SageMaker 会话。\n",
    "sagemaker_session = sagemaker.Session() \n",
    "\n",
    "# 设置存储桶名称。\n",
    "bucket = \"<bucket name>\" \n",
    "\n",
    "# 设置存储桶中文件的前缀。\n",
    "prefix = \"sagemaker/pytorch-bert-financetext\" \n",
    "\n",
    "# 获取执行角色。\n",
    "role = sagemaker.get_execution_role() \n",
    "\n",
    "# 将训练数据上传到指定的存储桶中，文件路径为 './data/train.csv'。\n",
    "inputs_train = sagemaker_session.upload_data(\"./data/train.csv\", bucket=bucket, key_prefix=prefix) \n",
    "\n",
    "# 将测试数据上传到指定的存储桶中，文件路径为 './data/test.csv'。\n",
    "inputs_test = sagemaker_session.upload_data(\"./data/test.csv\", bucket=bucket, key_prefix=prefix) "
   ]
  },
  {
   "cell_type": "markdown",
   "id": "97add5fa",
   "metadata": {},
   "source": [
    "**解释：**\n",
    "\n",
    "这段代码使用 Amazon SageMaker 服务将本地训练数据和测试数据上传到指定的存储桶中，为后续的模型训练和评估做准备。\n",
    "\n",
    "1. **导入库：**  导入必要的库，包括 `os` 用于操作文件系统，`numpy` 用于处理数组，`pandas` 用于处理数据表格，以及 `sagemaker` 用于使用 Amazon SageMaker 服务。\n",
    "2. **创建 SageMaker 会话：** 创建一个 Amazon SageMaker 会话，使用 `sagemaker.Session()`。SageMaker 会话对象提供了一系列方法，用于管理和运行 SageMaker 任务。\n",
    "3. **设置存储桶信息：** 设置存储桶名称 `bucket` 和文件前缀 `prefix`。`bucket` 是存储数据的存储桶名称，`prefix` 是存储桶中目录的路径。\n",
    "4. **获取执行角色：** 获取执行角色 `role`。执行角色是用于授权 SageMaker 任务访问其他 AWS 服务的权限。\n",
    "5. **上传训练数据：** 使用 `sagemaker_session.upload_data()` 方法将本地训练数据文件 `./data/train.csv` 上传到指定的存储桶中。\n",
    "6. **上传测试数据：** 使用 `sagemaker_session.upload_data()` 方法将本地测试数据文件 `./data/test.csv` 上传到指定的存储桶中。\n",
    "\n",
    "这段代码展示了如何使用 Amazon SageMaker 将本地数据上传到 S3 存储桶中，以便后续使用 SageMaker 训练和评估模型。\n"
   ]
  },
  {
   "cell_type": "markdown",
   "id": "125c1c2c",
   "metadata": {},
   "source": [
    "----"
   ]
  },
  {
   "cell_type": "code",
   "execution_count": null,
   "id": "sunrise-brighton",
   "metadata": {},
   "outputs": [],
   "source": [
    "# 导入 PyTorch 类的 SageMaker estimator。\n",
    "from sagemaker.pytorch import PyTorch \n",
    "\n",
    "# 设置模型输出路径。\n",
    "output_path = f\"s3://{bucket}/{prefix}\" \n",
    "\n",
    "# 创建一个 PyTorch estimator，用于在 SageMaker 上训练模型。\n",
    "estimator = PyTorch( \n",
    "\n",
    "    # 设置模型训练脚本入口。\n",
    "    entry_point=\"train.py\", \n",
    "\n",
    "    # 设置存放模型代码的目录。\n",
    "    source_dir=\"code\", \n",
    "\n",
    "    # 设置 SageMaker 任务的执行角色。\n",
    "    role=role, \n",
    "\n",
    "    # 设置 PyTorch 框架版本。\n",
    "    framework_version=\"1.6\", \n",
    "\n",
    "    # 设置 Python 版本。\n",
    "    py_version=\"py3\", \n",
    "\n",
    "    # 设置训练实例的数量。\n",
    "    instance_count=1,   \n",
    "\n",
    "    # 设置训练实例的类型。\n",
    "    instance_type=\"ml.p3.2xlarge\", \n",
    "\n",
    "    # 设置模型输出路径，模型训练完成后模型数据将保存到该路径。\n",
    "    output_path=output_path, \n",
    "\n",
    "    # 设置模型训练超参数。\n",
    "    hyperparameters={ \n",
    "\n",
    "        # 设置训练的 epoch 数。\n",
    "        \"epochs\": 4, \n",
    "\n",
    "        # 设置学习率。\n",
    "        \"lr\" : 5e-5, \n",
    "\n",
    "        # 设置标签的数量。\n",
    "        \"num_labels\": 3, \n",
    "\n",
    "        # 设置训练数据的文件名。\n",
    "        \"train_file\": \"train.csv\", \n",
    "\n",
    "        # 设置测试数据的文件名。\n",
    "        \"test_file\" : \"test.csv\", \n",
    "\n",
    "        # 设置最大序列长度。\n",
    "        \"MAX_LEN\" : 315, \n",
    "\n",
    "        # 设置训练数据的 batch 大小。\n",
    "        \"batch-size\" : 16, \n",
    "\n",
    "        # 设置测试数据的 batch 大小。\n",
    "        \"test-batch-size\" : 10 \n",
    "\n",
    "    } \n",
    "\n",
    ") \n",
    "\n",
    "# 使用 fit 方法训练模型，将训练数据和测试数据传入。\n",
    "estimator.fit({\"training\": inputs_train, \"testing\": inputs_test}) "
   ]
  },
  {
   "cell_type": "markdown",
   "id": "0fef956b",
   "metadata": {},
   "source": [
    "**解释：**\n",
    "\n",
    "这段代码使用 Amazon SageMaker 的 PyTorch estimator 在云端训练一个 PyTorch 模型。\n",
    "\n",
    "1. **创建 PyTorch Estimator：** 使用 `PyTorch` 类创建一个用于训练 PyTorch 模型的 estimator，并设置模型训练的各种参数：\n",
    "    * `entry_point`： 模型训练脚本的入口文件，这里设置为 `train.py`。\n",
    "    * `source_dir`： 存放模型代码的目录，这里设置为 `code`。\n",
    "    * `role`： SageMaker 任务的执行角色。\n",
    "    * `framework_version`： PyTorch 框架版本，这里设置为 `1.6`。\n",
    "    * `py_version`： Python 版本，这里设置为 `py3`。\n",
    "    * `instance_count`： 训练实例的数量，这里设置为 1，表示使用 1 个实例进行训练。\n",
    "    * `instance_type`： 训练实例的类型，这里设置为 `ml.p3.2xlarge`，表示使用性能较高的实例进行训练。\n",
    "    * `output_path`： 模型输出路径，模型训练完成后模型数据将保存到该路径。\n",
    "    * `hyperparameters`： 模型训练超参数，包含以下参数：\n",
    "      * `epochs`： 训练的 epoch 数。\n",
    "      * `lr`： 学习率。\n",
    "      * `num_labels`： 标签的数量。\n",
    "      * `train_file`： 训练数据的文件名。\n",
    "      * `test_file`： 测试数据的文件名。\n",
    "      * `MAX_LEN`： 最大序列长度。\n",
    "      * `batch-size`： 训练数据的 batch 大小。\n",
    "      * `test-batch-size`： 测试数据的 batch 大小。\n",
    "\n",
    "2. **启动训练：** 使用 `estimator.fit` 方法启动模型训练，并将训练数据和测试数据传入，训练数据存储在 `inputs_train` 中，测试数据存储在 `inputs_test` 中。\n",
    "\n",
    "这段代码展示了如何使用 Amazon SageMaker 的 PyTorch estimator 训练深度学习模型，并利用云计算资源加速模型训练过程。\n"
   ]
  },
  {
   "cell_type": "markdown",
   "id": "e3545885",
   "metadata": {},
   "source": [
    "----"
   ]
  },
  {
   "cell_type": "code",
   "execution_count": null,
   "id": "tested-tackle",
   "metadata": {},
   "outputs": [],
   "source": [
    "# 导入 PyTorch 模型类的 SageMaker estimator。\n",
    "from sagemaker.pytorch.model import PyTorchModel \n",
    "\n",
    "# 获取训练好的模型数据，存储在 model_data 变量中。\n",
    "model_data = estimator.model_data \n",
    "\n",
    "# 创建一个 PyTorch 模型，用于部署在 SageMaker 上，并设置模型参数。\n",
    "pytorch_model = PyTorchModel(model_data=model_data, \n",
    "\n",
    "                             # 设置 SageMaker 任务的执行角色。\n",
    "                             role=role, \n",
    "\n",
    "                             # 设置 PyTorch 框架版本。\n",
    "                             framework_version=\"1.6\", \n",
    "\n",
    "                             # 设置存放模型代码的目录。\n",
    "                             source_dir=\"code\", \n",
    "\n",
    "                             # 设置 Python 版本。\n",
    "                             py_version=\"py3\", \n",
    "\n",
    "                             # 设置模型推理脚本的入口。\n",
    "                             entry_point=\"inference.py\") \n",
    "\n",
    "# 部署模型，并设置实例数量和类型，将模型部署成一个可访问的端点，供用户进行预测调用。\n",
    "predictor = pytorch_model.deploy(initial_instance_count=1, instance_type=\"ml.m4.xlarge\") \n"
   ]
  },
  {
   "cell_type": "markdown",
   "id": "519de7ed",
   "metadata": {},
   "source": [
    "**解释：**\n",
    "\n",
    "这段代码用于将训练好的 PyTorch 模型部署到 Amazon SageMaker 上，使其可以被用户访问并进行预测。\n",
    "\n",
    "1. **创建 PyTorch 模型：**  使用 `PyTorchModel` 类创建一个用于部署的 PyTorch 模型，并设置模型参数：\n",
    "    * `model_data`： 训练好的模型数据。\n",
    "    * `role`： SageMaker 任务的执行角色。\n",
    "    * `framework_version`： PyTorch 框架版本。\n",
    "    * `source_dir`： 存放模型代码的目录。\n",
    "    * `py_version`： Python 版本。\n",
    "    * `entry_point`： 模型预测脚本的入口文件，这里设置为 `inference.py`。\n",
    "\n",
    "2. **部署模型：** 使用 `deploy` 方法将 PyTorch 模型部署到 SageMaker 上。\n",
    "    * `initial_instance_count`： 部署的实例数量，这里设置为 1，表示使用 1 个实例进行部署。\n",
    "    * `instance_type`： 部署的实例类型，这里设置为 `ml.m4.xlarge`，表示使用性能较高的实例进行部署。\n",
    "\n",
    "这段代码展示了如何使用 Amazon SageMaker 的 `PyTorchModel` 将训练好的模型部署为可以访问的端点，供用户进行预测。\n",
    "\n",
    "**代码逻辑：**\n",
    "\n",
    "这段代码通过加载训练好的模型数据，并使用 `PyTorchModel` 类创建了用于部署的 PyTorch 模型。然后调用 `deploy` 方法将模型部署到 Amazon SageMaker 上，并设置部署的参数，包括实例数量和实例类型。最后，代码将部署好的模型的预测器对象存储在 `predictor` 变量中，方便后续使用预测器对新数据进行预测。 \n"
   ]
  },
  {
   "cell_type": "markdown",
   "id": "1b7fb985",
   "metadata": {},
   "source": [
    "----"
   ]
  },
  {
   "cell_type": "code",
   "execution_count": null,
   "id": "inside-victorian",
   "metadata": {},
   "outputs": [],
   "source": [
    "# 设置预测器的序列化器为 JSONSerializer，用于将预测请求序列化为 JSON 格式。\n",
    "predictor.serializer = sagemaker.serializers.JSONSerializer() \n",
    "\n",
    "# 设置预测器的反序列化器为 JSONDeserializer，用于将预测结果反序列化为 JSON 格式。\n",
    "predictor.deserializer = sagemaker.deserializers.JSONDeserializer() \n",
    "\n",
    "# 使用部署好的模型进行预测，并将预测结果存储在 result 变量中。\n",
    "result = predictor.predict(\"The market is doing better than last year\") \n",
    "\n",
    "# 获取预测结果中概率最大的类别索引，并打印预测结果。\n",
    "print(\"预测类别: \", np.argmax(result, axis=1))  "
   ]
  },
  {
   "cell_type": "markdown",
   "id": "2d5a19d8",
   "metadata": {},
   "source": [
    "**解释：**\n",
    "\n",
    "这段代码使用部署好的模型对输入文本进行预测，并打印预测结果。\n",
    "\n",
    "1. **设置序列化器和反序列化器：**  使用 `JSONSerializer` 将预测请求序列化为 JSON 格式，使用 `JSONDeserializer` 将预测结果反序列化为 JSON 格式。\n",
    "2. **进行预测：**  使用 `predictor.predict` 方法对输入文本进行预测。\n",
    "3. **获取预测结果：**  获取预测结果中概率最大的类别索引，并打印预测结果。\n",
    "\n",
    "这段代码展示了如何使用部署好的 SageMaker 模型进行预测，并使用 `JSONSerializer` 和 `JSONDeserializer` 将预测请求和结果序列化为 JSON 格式。\n"
   ]
  },
  {
   "cell_type": "markdown",
   "id": "4fb0c03f",
   "metadata": {},
   "source": [
    "----"
   ]
  },
  {
   "cell_type": "code",
   "execution_count": null,
   "id": "musical-gregory",
   "metadata": {},
   "outputs": [],
   "source": [
    "# 使用 predictor.delete_endpoint() 方法删除部署的模型端点。\n",
    "predictor.delete_endpoint()"
   ]
  },
  {
   "cell_type": "markdown",
   "id": "352437df",
   "metadata": {},
   "source": [
    "**解释：**\n",
    "\n",
    "这段代码使用 `predictor.delete_endpoint()` 方法删除之前部署的模型端点。\n",
    "\n",
    "* **`predictor.delete_endpoint()`：**  是 SageMaker 提供的用于删除模型端点的函数。删除端点后，模型的预测服务将会停止提供服务，并且对应的实例将会被释放。\n",
    "\n",
    "通过使用 `delete_endpoint()` 方法，开发者可以删除不再需要的模型端点，释放对应的资源。\n",
    "\n",
    "**代码逻辑：**\n",
    "\n",
    "这段代码简单地调用了 `delete_endpoint()` 方法，从而删除模型端的点。\n"
   ]
  },
  {
   "cell_type": "markdown",
   "id": "f2b24538",
   "metadata": {},
   "source": [
    "----"
   ]
  }
 ],
 "metadata": {
  "kernelspec": {
   "display_name": "Python 3",
   "language": "python",
   "name": "python3"
  },
  "language_info": {
   "codemirror_mode": {
    "name": "ipython",
    "version": 3
   },
   "file_extension": ".py",
   "mimetype": "text/x-python",
   "name": "python",
   "nbconvert_exporter": "python",
   "pygments_lexer": "ipython3",
   "version": "3.9.1"
  }
 },
 "nbformat": 4,
 "nbformat_minor": 5
}
