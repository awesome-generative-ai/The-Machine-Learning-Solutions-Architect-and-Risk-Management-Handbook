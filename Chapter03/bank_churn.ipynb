{
 "cells": [
  {
   "cell_type": "code",
   "execution_count": null,
   "id": "bca4b5f0",
   "metadata": {},
   "outputs": [],
   "source": [
    "# 安装 pandas 库\n",
    "! pip3 install pandas\n",
    "\n",
    "# 安装 matplotlib 库\n",
    "! pip3 install matplotlib\n",
    "\n",
    "# 安装 scikit-learn 库\n",
    "! pip3 install scikit-learn"
   ]
  },
  {
   "cell_type": "code",
   "execution_count": null,
   "id": "01525fa2",
   "metadata": {},
   "outputs": [],
   "source": [
    "# 导入 pandas 库，使用 pd 简化调用\n",
    "import pandas as pd\n",
    "\n",
    "# 从 Github 链接读取 churn.csv 文件，存储在 churn_data 数据框中\n",
    "churn_data = pd.read_csv(\"https://raw.githubusercontent.com/awesome-generative-ai/The-Machine-Learning-Solutions-Architect-and-Risk-Management-Handbook/refs/heads/zh/Chapter03/churn.csv\")\n",
    "\n",
    "# 显示数据框的前五行数据\n",
    "churn_data.head()"
   ]
  },
  {
   "cell_type": "code",
   "execution_count": null,
   "id": "d9b6cab3",
   "metadata": {},
   "outputs": [],
   "source": [
    "# 计算特征的各种统计信息\n",
    "churn_data.describe()  \n",
    "\n",
    "# 显示不同特征的直方图\n",
    "# 可以替换列名以绘制其他特征的直方图\n",
    "churn_data.hist(['CreditScore', 'Age', 'Balance'])"
   ]
  },
  {
   "cell_type": "code",
   "execution_count": null,
   "id": "1180c302",
   "metadata": {},
   "outputs": [],
   "source": [
    "# 导入 OrdinalEncoder 类，用于对分类特征进行编码\n",
    "from sklearn.preprocessing import OrdinalEncoder\n",
    "\n",
    "# 创建两个 OrdinalEncoder 对象\n",
    "encoder_1 = OrdinalEncoder()\n",
    "encoder_2 = OrdinalEncoder()\n",
    "\n",
    "# 对 'Geography' 列进行编码，并将结果存储在 'Geography_code' 列中\n",
    "churn_data['Geography_code'] = encoder_1.fit_transform(churn_data[['Geography']])\n",
    "\n",
    "# 对 'Gender' 列进行编码，并将结果存储在 'Gender_code' 列中\n",
    "churn_data['Gender_code'] = encoder_2.fit_transform(churn_data[['Gender']])"
   ]
  },
  {
   "cell_type": "code",
   "execution_count": null,
   "id": "13011f90",
   "metadata": {},
   "outputs": [],
   "source": [
    "# 从 churn_data 数据框中删除指定的列\n",
    "churn_data.drop(columns = ['Geography','Gender','RowNumber','Surname'], inplace=True)\n",
    "\n",
    "# 计算剩余特征之间的相关性\n",
    "churn_data.corr()"
   ]
  },
  {
   "cell_type": "code",
   "execution_count": null,
   "id": "3c20e6b8",
   "metadata": {},
   "outputs": [],
   "source": [
    "# 导入 train_test_split 类，用于数据分割\n",
    "from sklearn.model_selection import train_test_split\n",
    "\n",
    "# 将数据集分成训练集（80%）和测试集（20%）。\n",
    "churn_train, churn_test = train_test_split(churn_data, test_size=0.2)\n",
    "\n",
    "# 将特征与目标变量 \"Exited\" 分开\n",
    "churn_train_X = churn_train.loc[:, churn_train.columns != 'Exited']  # 训练集特征\n",
    "churn_train_y = churn_train['Exited']                           # 训练集目标变量\n",
    "churn_test_X = churn_test.loc[:, churn_test.columns != 'Exited'] # 测试集特征\n",
    "churn_test_y = churn_test['Exited']                             # 测试集目标变量"
   ]
  },
  {
   "cell_type": "code",
   "execution_count": null,
   "id": "58bbbbf2",
   "metadata": {},
   "outputs": [],
   "source": [
    "# 我们将使用随机森林算法来训练模型\n",
    "from sklearn.ensemble import RandomForestClassifier\n",
    "\n",
    "# 创建一个 RandomForestClassifier 对象，并设置参数\n",
    "bank_churn_clf = RandomForestClassifier(max_depth=2, random_state=0)\n",
    "\n",
    "# 使用训练集数据训练模型\n",
    "bank_churn_clf.fit(churn_train_X, churn_train_y)"
   ]
  },
  {
   "cell_type": "code",
   "execution_count": null,
   "id": "b9fd3c77",
   "metadata": {},
   "outputs": [],
   "source": [
    "# 导入 accuracy_score 类来计算模型的准确率\n",
    "from sklearn.metrics import accuracy_score\n",
    "\n",
    "# 使用训练好的模型对测试集进行预测\n",
    "churn_prediction_y = bank_churn_clf.predict(churn_test_X)\n",
    "\n",
    "# 计算模型的准确率\n",
    "accuracy_score(churn_test_y, churn_prediction_y)"
   ]
  }
 ],
 "metadata": {
  "kernelspec": {
   "display_name": "Python 3 (ipykernel)",
   "language": "python",
   "name": "python3"
  },
  "language_info": {
   "codemirror_mode": {
    "name": "ipython",
    "version": 3
   },
   "file_extension": ".py",
   "mimetype": "text/x-python",
   "name": "python",
   "nbconvert_exporter": "python",
   "pygments_lexer": "ipython3",
   "version": "3.10.13"
  }
 },
 "nbformat": 4,
 "nbformat_minor": 5
}
